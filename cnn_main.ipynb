{
 "cells": [
  {
   "cell_type": "code",
   "execution_count": 1,
   "outputs": [
    {
     "name": "stderr",
     "text": [
      "\n",
      "Bad key \"text.kerning_factor\" on line 4 in\n",
      "C:\\Users\\higor\\anaconda3\\envs\\pytorch-covid\\lib\\site-packages\\matplotlib\\mpl-data\\stylelib\\_classic_test_patch.mplstyle.\n",
      "You probably need to get an updated matplotlibrc file from\n",
      "https://github.com/matplotlib/matplotlib/blob/v3.1.3/matplotlibrc.template\n",
      "or from the matplotlib source distribution\n"
     ],
     "output_type": "stream"
    }
   ],
   "source": [
    "import numpy as np\n",
    "import pandas as pd\n",
    "import torch\n",
    "import torch.nn as nn\n",
    "import seaborn as sns\n",
    "import matplotlib.pyplot as plt\n",
    "import torch.optim as optim\n",
    "from sklearn.metrics import classification_report, confusion_matrix, accuracy_score\n",
    "from tqdm.notebook import tqdm\n",
    "import torchvision\n",
    "from PIL import Image\n",
    "from torch.utils.data import DataLoader, SubsetRandomSampler\n",
    "from torchvision import transforms, datasets\n",
    "\n",
    "np.random.seed(42)\n",
    "%matplotlib inline\n",
    "sns.set_style('darkgrid')"
   ],
   "metadata": {
    "collapsed": false,
    "pycharm": {
     "name": "#%%\n",
     "is_executing": false
    }
   }
  },
  {
   "cell_type": "code",
   "execution_count": 2,
   "outputs": [
    {
     "name": "stdout",
     "text": [
      "Dataset ImageFolder\n",
      "    Number of datapoints: 900\n",
      "    Root location: dataset_divided/train\n",
      "    StandardTransform\n",
      "Transform: Compose(\n",
      "               <__main__.ToRGB object at 0x000001C2CD989AF0>\n",
      "               Resize(size=(256, 256), interpolation=PIL.Image.BILINEAR)\n",
      "               ToTensor()\n",
      "               <__main__.ToNorm object at 0x000001C2CD989B80>\n",
      "           )\n"
     ],
     "output_type": "stream"
    }
   ],
   "source": [
    "EPOCHS = 100\n",
    "BATCH_SIZE = 32\n",
    "LEARNING_RATE = 0.003\n",
    "TRAIN_DATA_PATH = \"dataset_divided/train\"\n",
    "TEST_DATA_PATH = \"dataset_divided/test\"\n",
    "\n",
    "loader = lambda x: Image.open(x)\n",
    "\n",
    "class ToNorm(object):\n",
    "    def __call__(self,img):\n",
    "        mean = torch.mean(img)\n",
    "        std  = torch.std(img)\n",
    "        return (img - mean)/std\n",
    "    \n",
    "\n",
    "class ToRGB(object):\n",
    "    def __call__(self,img):\n",
    "        if img.mode == 'RGBA':\n",
    "            r, g, b, a = img.split()\n",
    "            return Image.merge('RGB', (r, g, b))\n",
    "        if img.mode == 'L':\n",
    "            rgb = img.convert('RGB')\n",
    "            return rgb\n",
    "        return img\n",
    "\n",
    "\n",
    "TRANSFORM_IMG = transforms.Compose([\n",
    "    ToRGB(),\n",
    "    transforms.Resize((256, 256)),\n",
    "    transforms.ToTensor(),\n",
    "    ToNorm()\n",
    "    ])\n",
    "\n",
    "# Carregar imagens\n",
    "train_data  = datasets.ImageFolder(TRAIN_DATA_PATH, loader=loader, transform=TRANSFORM_IMG)\n",
    "print(train_data)\n",
    "\n",
    "train_loader = torch.utils.data.DataLoader(train_data, batch_size=999, shuffle=False)\n",
    "\n",
    "data, class_att = next(iter(train_loader))\n",
    "\n",
    "# Separar as folds com balanceamento das amostras\n",
    "\n",
    "n_folds = 5\n",
    "\n",
    "samples_per_label = [[] for i in range(len(train_data.classes))]\n",
    "\n",
    "for i in range(len(train_data.samples)):\n",
    "    samples_per_label[class_att[i]].append(data[i].view(3, 256, 256).numpy())\n",
    "\n",
    "for i in range(len(samples_per_label)):\n",
    "    samples_per_label[i] = np.random.permutation(samples_per_label[i])\n",
    "    samples_per_label[i] = np.array_split(samples_per_label[i], n_folds)\n",
    "\n",
    "folds = [[] for i in range(n_folds)]\n",
    "folds_labels = [[] for i in range(n_folds)]\n",
    "\n",
    "for i in range(n_folds):\n",
    "    for j in range(len(samples_per_label)):\n",
    "        folds[i].append(samples_per_label[j][i])\n",
    "        labels = np.empty(len(samples_per_label[j][i]), dtype=int)\n",
    "        labels.fill(j)\n",
    "        folds_labels[i].append(labels)\n",
    "    folds_labels[i] = np.concatenate(folds_labels[i][:])\n",
    "    folds[i] = np.concatenate(folds[i][:])"
   ],
   "metadata": {
    "collapsed": false,
    "pycharm": {
     "name": "#%%\n",
     "is_executing": false
    }
   }
  },
  {
   "cell_type": "code",
   "execution_count": 3,
   "outputs": [
    {
     "name": "stdout",
     "text": [
      "{0: 'Covid-19', 1: 'No_findings', 2: 'Pneumonia'}\n"
     ],
     "output_type": "stream"
    },
    {
     "data": {
      "text/plain": "Text(0.5, 1.0, 'Entire Dataset (before train/val/test split)')"
     },
     "metadata": {},
     "output_type": "execute_result",
     "execution_count": 3
    }
   ],
   "source": [
    "idx2class = {v: k for k, v in train_data.class_to_idx.items()}\n",
    "print(idx2class)\n",
    "\n",
    "def get_class_distribution(dataset_obj):\n",
    "    count_dict = {k:0 for k,v in dataset_obj.class_to_idx.items()}\n",
    "    for _, label_id in dataset_obj:\n",
    "        label = idx2class[label_id]\n",
    "        count_dict[label] += 1\n",
    "    return count_dict\n",
    "\n",
    "\n",
    "def plot_from_dict(dict_obj, plot_title, **kwargs):\n",
    "    return sns.barplot(data = pd.DataFrame.from_dict([dict_obj]).melt(), x = \"variable\", y=\"value\", hue=\"variable\", **kwargs).set_title(plot_title)\n",
    "\n",
    "\n",
    "plt.figure(figsize=(15,8))\n",
    "plot_from_dict(get_class_distribution(train_data), plot_title=\"Entire Dataset (before train/val/test split)\")"
   ],
   "metadata": {
    "collapsed": false,
    "pycharm": {
     "name": "#%%\n",
     "is_executing": false
    }
   }
  },
  {
   "cell_type": "code",
   "execution_count": 4,
   "outputs": [
    {
     "data": {
      "text/plain": "Text(0.5, 1.0, 'Val Set')"
     },
     "metadata": {},
     "output_type": "execute_result",
     "execution_count": 4
    },
    {
     "data": {
      "text/plain": "<Figure size 1080x576 with 1 Axes>",
      "image/png": "[encoded data removed]"
     },
     "metadata": {},
     "output_type": "display_data"
    },
    {
     "data": {
      "text/plain": "<Figure size 1296x504 with 2 Axes>",
      "image/png": "[encoded data removed]"
     },
     "metadata": {},
     "output_type": "display_data"
    }
   ],
   "source": [
    "def get_class_distribution_loaders(dataloader_obj, dataset_obj):\n",
    "    idx2class2 = {v: k for k, v in dataset_obj.class_to_idx.items()}\n",
    "    count_dict = {k:0 for k,v in dataset_obj.class_to_idx.items()}\n",
    "    if dataloader_obj.batch_size == 1:    \n",
    "        for _,label_id in dataloader_obj:\n",
    "            y_idx = label_id.item()\n",
    "            y_lbl = idx2class2[y_idx]\n",
    "            count_dict[str(y_lbl)] += 1\n",
    "    else: \n",
    "        for _,label_id in dataloader_obj:\n",
    "            for idx in label_id:\n",
    "                y_idx = idx.item()\n",
    "                y_lbl = idx2class2[y_idx]\n",
    "                count_dict[str(y_lbl)] += 1\n",
    "    return count_dict\n",
    "\n",
    "\n",
    "fig, axes = plt.subplots(nrows=1, ncols=2, figsize=(18,7))\n",
    "plot_from_dict(get_class_distribution_loaders(train_loader, train_data), plot_title=\"Train Set\", ax=axes[0])\n",
    "rps_dataset_size = len(train_data)\n",
    "rps_dataset_indices = list(range(rps_dataset_size))\n",
    "np.random.shuffle(rps_dataset_indices)\n",
    "val_split_index = int(np.floor(0.2 * rps_dataset_size))\n",
    "train_idx, val_idx = rps_dataset_indices[val_split_index:], rps_dataset_indices[:val_split_index]\n",
    "train_sampler = SubsetRandomSampler(train_idx)\n",
    "val_sampler = SubsetRandomSampler(val_idx)\n",
    "val_loader = DataLoader(dataset=train_data, shuffle=False, batch_size=1, sampler=val_sampler)\n",
    "plot_from_dict(get_class_distribution_loaders(val_loader, train_data), plot_title=\"Val Set\", ax=axes[1])"
   ],
   "metadata": {
    "collapsed": false,
    "pycharm": {
     "name": "#%%\n",
     "is_executing": false
    }
   }
  },
  {
   "cell_type": "code",
   "execution_count": 5,
   "outputs": [
    {
     "data": {
      "text/plain": "torch.Size([900, 3, 256, 256])"
     },
     "metadata": {},
     "output_type": "execute_result",
     "execution_count": 5
    }
   ],
   "source": [
    "single_batch = next(iter(train_loader))\n",
    "single_batch[0].shape"
   ],
   "metadata": {
    "collapsed": false,
    "pycharm": {
     "name": "#%%\n",
     "is_executing": false
    }
   }
  },
  {
   "cell_type": "code",
   "execution_count": 6,
   "outputs": [
    {
     "name": "stdout",
     "text": [
      "Output label tensors:  tensor([0, 0, 0, 0, 0, 0, 0, 0, 0, 0, 0, 0, 0, 0, 0, 0, 0, 0, 0, 0, 0, 0, 0, 0,\n",
      "        0, 0, 0, 0, 0, 0, 0, 0, 0, 0, 0, 0, 0, 0, 0, 0, 0, 0, 0, 0, 0, 0, 0, 0,\n",
      "        0, 0, 0, 0, 0, 0, 0, 0, 0, 0, 0, 0, 0, 0, 0, 0, 0, 0, 0, 0, 0, 0, 0, 0,\n",
      "        0, 0, 0, 0, 0, 0, 0, 0, 0, 0, 0, 0, 0, 0, 0, 0, 0, 0, 0, 0, 0, 0, 0, 0,\n",
      "        0, 0, 0, 0, 1, 1, 1, 1, 1, 1, 1, 1, 1, 1, 1, 1, 1, 1, 1, 1, 1, 1, 1, 1,\n",
      "        1, 1, 1, 1, 1, 1, 1, 1, 1, 1, 1, 1, 1, 1, 1, 1, 1, 1, 1, 1, 1, 1, 1, 1,\n",
      "        1, 1, 1, 1, 1, 1, 1, 1, 1, 1, 1, 1, 1, 1, 1, 1, 1, 1, 1, 1, 1, 1, 1, 1,\n",
      "        1, 1, 1, 1, 1, 1, 1, 1, 1, 1, 1, 1, 1, 1, 1, 1, 1, 1, 1, 1, 1, 1, 1, 1,\n",
      "        1, 1, 1, 1, 1, 1, 1, 1, 1, 1, 1, 1, 1, 1, 1, 1, 1, 1, 1, 1, 1, 1, 1, 1,\n",
      "        1, 1, 1, 1, 1, 1, 1, 1, 1, 1, 1, 1, 1, 1, 1, 1, 1, 1, 1, 1, 1, 1, 1, 1,\n",
      "        1, 1, 1, 1, 1, 1, 1, 1, 1, 1, 1, 1, 1, 1, 1, 1, 1, 1, 1, 1, 1, 1, 1, 1,\n",
      "        1, 1, 1, 1, 1, 1, 1, 1, 1, 1, 1, 1, 1, 1, 1, 1, 1, 1, 1, 1, 1, 1, 1, 1,\n",
      "        1, 1, 1, 1, 1, 1, 1, 1, 1, 1, 1, 1, 1, 1, 1, 1, 1, 1, 1, 1, 1, 1, 1, 1,\n",
      "        1, 1, 1, 1, 1, 1, 1, 1, 1, 1, 1, 1, 1, 1, 1, 1, 1, 1, 1, 1, 1, 1, 1, 1,\n",
      "        1, 1, 1, 1, 1, 1, 1, 1, 1, 1, 1, 1, 1, 1, 1, 1, 1, 1, 1, 1, 1, 1, 1, 1,\n",
      "        1, 1, 1, 1, 1, 1, 1, 1, 1, 1, 1, 1, 1, 1, 1, 1, 1, 1, 1, 1, 1, 1, 1, 1,\n",
      "        1, 1, 1, 1, 1, 1, 1, 1, 1, 1, 1, 1, 1, 1, 1, 1, 1, 1, 1, 1, 1, 1, 1, 1,\n",
      "        1, 1, 1, 1, 1, 1, 1, 1, 1, 1, 1, 1, 1, 1, 1, 1, 1, 1, 1, 1, 1, 1, 1, 1,\n",
      "        1, 1, 1, 1, 1, 1, 1, 1, 1, 1, 1, 1, 1, 1, 1, 1, 1, 1, 1, 1, 1, 1, 1, 1,\n",
      "        1, 1, 1, 1, 1, 1, 1, 1, 1, 1, 1, 1, 1, 1, 1, 1, 1, 1, 1, 1, 1, 1, 1, 1,\n",
      "        1, 1, 1, 1, 1, 1, 1, 1, 1, 1, 1, 1, 1, 1, 1, 1, 1, 1, 1, 1, 2, 2, 2, 2,\n",
      "        2, 2, 2, 2, 2, 2, 2, 2, 2, 2, 2, 2, 2, 2, 2, 2, 2, 2, 2, 2, 2, 2, 2, 2,\n",
      "        2, 2, 2, 2, 2, 2, 2, 2, 2, 2, 2, 2, 2, 2, 2, 2, 2, 2, 2, 2, 2, 2, 2, 2,\n",
      "        2, 2, 2, 2, 2, 2, 2, 2, 2, 2, 2, 2, 2, 2, 2, 2, 2, 2, 2, 2, 2, 2, 2, 2,\n",
      "        2, 2, 2, 2, 2, 2, 2, 2, 2, 2, 2, 2, 2, 2, 2, 2, 2, 2, 2, 2, 2, 2, 2, 2,\n",
      "        2, 2, 2, 2, 2, 2, 2, 2, 2, 2, 2, 2, 2, 2, 2, 2, 2, 2, 2, 2, 2, 2, 2, 2,\n",
      "        2, 2, 2, 2, 2, 2, 2, 2, 2, 2, 2, 2, 2, 2, 2, 2, 2, 2, 2, 2, 2, 2, 2, 2,\n",
      "        2, 2, 2, 2, 2, 2, 2, 2, 2, 2, 2, 2, 2, 2, 2, 2, 2, 2, 2, 2, 2, 2, 2, 2,\n",
      "        2, 2, 2, 2, 2, 2, 2, 2, 2, 2, 2, 2, 2, 2, 2, 2, 2, 2, 2, 2, 2, 2, 2, 2,\n",
      "        2, 2, 2, 2, 2, 2, 2, 2, 2, 2, 2, 2, 2, 2, 2, 2, 2, 2, 2, 2, 2, 2, 2, 2,\n",
      "        2, 2, 2, 2, 2, 2, 2, 2, 2, 2, 2, 2, 2, 2, 2, 2, 2, 2, 2, 2, 2, 2, 2, 2,\n",
      "        2, 2, 2, 2, 2, 2, 2, 2, 2, 2, 2, 2, 2, 2, 2, 2, 2, 2, 2, 2, 2, 2, 2, 2,\n",
      "        2, 2, 2, 2, 2, 2, 2, 2, 2, 2, 2, 2, 2, 2, 2, 2, 2, 2, 2, 2, 2, 2, 2, 2,\n",
      "        2, 2, 2, 2, 2, 2, 2, 2, 2, 2, 2, 2, 2, 2, 2, 2, 2, 2, 2, 2, 2, 2, 2, 2,\n",
      "        2, 2, 2, 2, 2, 2, 2, 2, 2, 2, 2, 2, 2, 2, 2, 2, 2, 2, 2, 2, 2, 2, 2, 2,\n",
      "        2, 2, 2, 2, 2, 2, 2, 2, 2, 2, 2, 2, 2, 2, 2, 2, 2, 2, 2, 2, 2, 2, 2, 2,\n",
      "        2, 2, 2, 2, 2, 2, 2, 2, 2, 2, 2, 2, 2, 2, 2, 2, 2, 2, 2, 2, 2, 2, 2, 2,\n",
      "        2, 2, 2, 2, 2, 2, 2, 2, 2, 2, 2, 2])\n",
      "Output label tensor shape:  torch.Size([900])\n"
     ],
     "output_type": "stream"
    }
   ],
   "source": [
    "print(\"Output label tensors: \", single_batch[1])\n",
    "print(\"Output label tensor shape: \", single_batch[1].shape)"
   ],
   "metadata": {
    "collapsed": false,
    "pycharm": {
     "name": "#%%\n",
     "is_executing": false
    }
   }
  },
  {
   "cell_type": "code",
   "execution_count": 7,
   "outputs": [
    {
     "data": {
      "text/plain": "torch.Size([3, 256, 256])"
     },
     "metadata": {},
     "output_type": "execute_result",
     "execution_count": 7
    }
   ],
   "source": [
    "single_image = single_batch[0][0]\n",
    "single_image.shape"
   ],
   "metadata": {
    "collapsed": false,
    "pycharm": {
     "name": "#%%\n",
     "is_executing": false
    }
   }
  },
  {
   "cell_type": "code",
   "execution_count": 8,
   "outputs": [
    {
     "name": "stderr",
     "text": [
      "Clipping input data to the valid range for imshow with RGB data ([0..1] for floats or [0..255] for integers).\n"
     ],
     "output_type": "stream"
    },
    {
     "data": {
      "text/plain": "<matplotlib.image.AxesImage at 0x1c2c64ba400>"
     },
     "metadata": {},
     "output_type": "execute_result",
     "execution_count": 8
    },
    {
     "data": {
      "text/plain": "<Figure size 432x288 with 1 Axes>",
      "image/png": "[encoded data removed]"
     },
     "metadata": {},
     "output_type": "display_data"
    }
   ],
   "source": [
    "plt.imshow(single_image.permute(1, 2, 0))"
   ],
   "metadata": {
    "collapsed": false,
    "pycharm": {
     "name": "#%%\n",
     "is_executing": false
    }
   }
  },
  {
   "cell_type": "code",
   "execution_count": 9,
   "outputs": [
    {
     "name": "stdout",
     "text": [
      "We're using => cuda\n",
      "CovidCNN(\n",
      "  (covid): Sequential(\n",
      "    (0): Sequential(\n",
      "      (0): Conv2d(3, 8, kernel_size=(3, 3), stride=(1, 1), padding=(1, 1), bias=False)\n",
      "      (1): BatchNorm2d(8, eps=1e-05, momentum=0.1, affine=True, track_running_stats=True)\n",
      "      (2): LeakyReLU(negative_slope=0.1, inplace=True)\n",
      "    )\n",
      "    (1): MaxPool2d(kernel_size=2, stride=2, padding=0, dilation=1, ceil_mode=False)\n",
      "    (2): Sequential(\n",
      "      (0): Conv2d(8, 16, kernel_size=(3, 3), stride=(1, 1), padding=(1, 1), bias=False)\n",
      "      (1): BatchNorm2d(16, eps=1e-05, momentum=0.1, affine=True, track_running_stats=True)\n",
      "      (2): LeakyReLU(negative_slope=0.1, inplace=True)\n",
      "    )\n",
      "    (3): MaxPool2d(kernel_size=2, stride=2, padding=0, dilation=1, ceil_mode=False)\n",
      "    (4): Sequential(\n",
      "      (0): Sequential(\n",
      "        (0): Conv2d(16, 32, kernel_size=(3, 3), stride=(1, 1), padding=(1, 1), bias=False)\n",
      "        (1): BatchNorm2d(32, eps=1e-05, momentum=0.1, affine=True, track_running_stats=True)\n",
      "        (2): LeakyReLU(negative_slope=0.1, inplace=True)\n",
      "      )\n",
      "      (1): Sequential(\n",
      "        (0): Conv2d(32, 16, kernel_size=(1, 1), stride=(1, 1), padding=(1, 1), bias=False)\n",
      "        (1): BatchNorm2d(16, eps=1e-05, momentum=0.1, affine=True, track_running_stats=True)\n",
      "        (2): LeakyReLU(negative_slope=0.1, inplace=True)\n",
      "      )\n",
      "      (2): Sequential(\n",
      "        (0): Conv2d(16, 32, kernel_size=(3, 3), stride=(1, 1), padding=(1, 1), bias=False)\n",
      "        (1): BatchNorm2d(32, eps=1e-05, momentum=0.1, affine=True, track_running_stats=True)\n",
      "        (2): LeakyReLU(negative_slope=0.1, inplace=True)\n",
      "      )\n",
      "    )\n",
      "    (5): MaxPool2d(kernel_size=2, stride=2, padding=0, dilation=1, ceil_mode=False)\n",
      "    (6): Sequential(\n",
      "      (0): Sequential(\n",
      "        (0): Conv2d(32, 64, kernel_size=(3, 3), stride=(1, 1), padding=(1, 1), bias=False)\n",
      "        (1): BatchNorm2d(64, eps=1e-05, momentum=0.1, affine=True, track_running_stats=True)\n",
      "        (2): LeakyReLU(negative_slope=0.1, inplace=True)\n",
      "      )\n",
      "      (1): Sequential(\n",
      "        (0): Conv2d(64, 32, kernel_size=(1, 1), stride=(1, 1), padding=(1, 1), bias=False)\n",
      "        (1): BatchNorm2d(32, eps=1e-05, momentum=0.1, affine=True, track_running_stats=True)\n",
      "        (2): LeakyReLU(negative_slope=0.1, inplace=True)\n",
      "      )\n",
      "      (2): Sequential(\n",
      "        (0): Conv2d(32, 64, kernel_size=(3, 3), stride=(1, 1), padding=(1, 1), bias=False)\n",
      "        (1): BatchNorm2d(64, eps=1e-05, momentum=0.1, affine=True, track_running_stats=True)\n",
      "        (2): LeakyReLU(negative_slope=0.1, inplace=True)\n",
      "      )\n",
      "    )\n",
      "    (7): MaxPool2d(kernel_size=2, stride=2, padding=0, dilation=1, ceil_mode=False)\n",
      "    (8): Sequential(\n",
      "      (0): Sequential(\n",
      "        (0): Conv2d(64, 128, kernel_size=(3, 3), stride=(1, 1), padding=(1, 1), bias=False)\n",
      "        (1): BatchNorm2d(128, eps=1e-05, momentum=0.1, affine=True, track_running_stats=True)\n",
      "        (2): LeakyReLU(negative_slope=0.1, inplace=True)\n",
      "      )\n",
      "      (1): Sequential(\n",
      "        (0): Conv2d(128, 64, kernel_size=(1, 1), stride=(1, 1), padding=(1, 1), bias=False)\n",
      "        (1): BatchNorm2d(64, eps=1e-05, momentum=0.1, affine=True, track_running_stats=True)\n",
      "        (2): LeakyReLU(negative_slope=0.1, inplace=True)\n",
      "      )\n",
      "      (2): Sequential(\n",
      "        (0): Conv2d(64, 128, kernel_size=(3, 3), stride=(1, 1), padding=(1, 1), bias=False)\n",
      "        (1): BatchNorm2d(128, eps=1e-05, momentum=0.1, affine=True, track_running_stats=True)\n",
      "        (2): LeakyReLU(negative_slope=0.1, inplace=True)\n",
      "      )\n",
      "    )\n",
      "    (9): MaxPool2d(kernel_size=2, stride=2, padding=0, dilation=1, ceil_mode=False)\n",
      "    (10): Sequential(\n",
      "      (0): Sequential(\n",
      "        (0): Conv2d(128, 256, kernel_size=(3, 3), stride=(1, 1), padding=(1, 1), bias=False)\n",
      "        (1): BatchNorm2d(256, eps=1e-05, momentum=0.1, affine=True, track_running_stats=True)\n",
      "        (2): LeakyReLU(negative_slope=0.1, inplace=True)\n",
      "      )\n",
      "      (1): Sequential(\n",
      "        (0): Conv2d(256, 128, kernel_size=(1, 1), stride=(1, 1), padding=(1, 1), bias=False)\n",
      "        (1): BatchNorm2d(128, eps=1e-05, momentum=0.1, affine=True, track_running_stats=True)\n",
      "        (2): LeakyReLU(negative_slope=0.1, inplace=True)\n",
      "      )\n",
      "      (2): Sequential(\n",
      "        (0): Conv2d(128, 256, kernel_size=(3, 3), stride=(1, 1), padding=(1, 1), bias=False)\n",
      "        (1): BatchNorm2d(256, eps=1e-05, momentum=0.1, affine=True, track_running_stats=True)\n",
      "        (2): LeakyReLU(negative_slope=0.1, inplace=True)\n",
      "      )\n",
      "    )\n",
      "    (11): Sequential(\n",
      "      (0): Conv2d(256, 128, kernel_size=(1, 1), stride=(1, 1), padding=(1, 1), bias=False)\n",
      "      (1): BatchNorm2d(128, eps=1e-05, momentum=0.1, affine=True, track_running_stats=True)\n",
      "      (2): LeakyReLU(negative_slope=0.1, inplace=True)\n",
      "    )\n",
      "    (12): Sequential(\n",
      "      (0): Conv2d(128, 256, kernel_size=(3, 3), stride=(1, 1), padding=(1, 1), bias=False)\n",
      "      (1): BatchNorm2d(256, eps=1e-05, momentum=0.1, affine=True, track_running_stats=True)\n",
      "      (2): LeakyReLU(negative_slope=0.1, inplace=True)\n",
      "    )\n",
      "    (13): Sequential(\n",
      "      (0): Conv2d(256, 3, kernel_size=(3, 3), stride=(1, 1), padding=(1, 1), bias=False)\n",
      "      (1): ReLU(inplace=True)\n",
      "      (2): BatchNorm2d(3, eps=1e-05, momentum=0.1, affine=True, track_running_stats=True)\n",
      "    )\n",
      "    (14): Flatten()\n",
      "    (15): Linear(in_features=507, out_features=3, bias=True)\n",
      "  )\n",
      ")\n"
     ],
     "output_type": "stream"
    }
   ],
   "source": [
    "device = torch.device(\"cuda\" if torch.cuda.is_available() else \"cpu\")\n",
    "print(\"We're using =>\", device)\n",
    "\n",
    "def conv_block(ni, nf, size=3, stride=1):\n",
    "    for_pad = lambda s: s if s > 2 else 3\n",
    "    return nn.Sequential(\n",
    "        nn.Conv2d(ni, nf, kernel_size=size, stride=stride,\n",
    "                  padding=(for_pad(size) - 1)//2, bias=False), \n",
    "        nn.BatchNorm2d(nf),\n",
    "        nn.LeakyReLU(negative_slope=0.1, inplace=True)  \n",
    "    )\n",
    "\n",
    "\n",
    "def conv_layer(ni, nf, size=3, stride=1):\n",
    "    for_pad = lambda s: s if s > 2 else 3\n",
    "    return nn.Sequential(\n",
    "        nn.Conv2d(ni, nf, kernel_size=size, stride=stride,\n",
    "                  padding=(for_pad(size) - 1)//2, bias=False),\n",
    "        nn.ReLU(inplace=True),\n",
    "        nn.BatchNorm2d(nf)  \n",
    "    )\n",
    "    \n",
    "\n",
    "def triple_conv(ni, nf):\n",
    "    return nn.Sequential(\n",
    "        conv_block(ni, nf),\n",
    "        conv_block(nf, ni, size=1),  \n",
    "        conv_block(ni, nf)\n",
    "    )\n",
    "\n",
    "\n",
    "def maxpooling():\n",
    "    return nn.MaxPool2d(2, stride=2)\n",
    "\n",
    "\n",
    "class CovidCNN(nn.Module):\n",
    "    def __init__(self):\n",
    "        super(CovidCNN,self).__init__()\n",
    "        self.covid = nn.Sequential(\n",
    "            conv_block(3, 8),\n",
    "            maxpooling(),\n",
    "            conv_block(8, 16),\n",
    "            maxpooling(),\n",
    "            triple_conv(16, 32),\n",
    "            maxpooling(),\n",
    "            triple_conv(32, 64),\n",
    "            maxpooling(),\n",
    "            triple_conv(64, 128),\n",
    "            maxpooling(),\n",
    "            triple_conv(128, 256),\n",
    "            conv_block(256, 128, size=1),\n",
    "            conv_block(128, 256),\n",
    "            conv_layer(256,3),\n",
    "            nn.Flatten(),\n",
    "            nn.Linear(507, 3)\n",
    "        )\n",
    "    def forward(self,x):\n",
    "        x = self.covid(x)\n",
    "        return x\n",
    "\n",
    "\n",
    "model = CovidCNN()\n",
    "criterion = nn.CrossEntropyLoss()\n",
    "optimizer = optim.SGD(model.parameters(), lr=LEARNING_RATE)\n",
    "if torch.cuda.is_available():\n",
    "    model = model.cuda()\n",
    "    criterion = criterion.cuda()\n",
    "print(model)"
   ],
   "metadata": {
    "collapsed": false,
    "pycharm": {
     "name": "#%%\n",
     "is_executing": false
    }
   }
  },
  {
   "cell_type": "code",
   "execution_count": 10,
   "outputs": [],
   "source": [
    "def multi_acc(y_pred, y_test):\n",
    "    y_pred_softmax = torch.log_softmax(y_pred, dim = 1)\n",
    "    _, y_pred_tags = torch.max(y_pred_softmax, dim = 1)    \n",
    "    correct_pred = (y_pred_tags == y_test).float()\n",
    "    acc = correct_pred.sum() / len(correct_pred)\n",
    "    acc = torch.round(acc) * 100\n",
    "    return acc\n",
    "\n",
    "\n",
    "accuracy_stats = {\n",
    "    'train': [],\n",
    "    'val': []\n",
    "}\n",
    "loss_stats = {\n",
    "    'train': [],\n",
    "    'val': []\n",
    "}\n"
   ],
   "metadata": {
    "collapsed": false,
    "pycharm": {
     "name": "#%%\n",
     "is_executing": false
    }
   }
  },
  {
   "cell_type": "code",
   "execution_count": 11,
   "outputs": [
    {
     "name": "stdout",
     "text": [
      "Training fold 1...\n",
      "Epoch 00: | Train Loss: 0.81933 | Val Loss: 1.05418 | Train Acc: 78.261| Val Acc: 44.444\n",
      "Epoch 10: | Train Loss: 0.01768 | Val Loss: 0.64822 | Train Acc: 100.000| Val Acc: 77.222\n",
      "Epoch 20: | Train Loss: 0.00608 | Val Loss: 0.71569 | Train Acc: 100.000| Val Acc: 73.889\n",
      "Epoch 30: | Train Loss: 0.00360 | Val Loss: 0.73326 | Train Acc: 100.000| Val Acc: 75.000\n",
      "Epoch 40: | Train Loss: 0.00248 | Val Loss: 0.75572 | Train Acc: 100.000| Val Acc: 75.000\n",
      "Epoch 50: | Train Loss: 0.00182 | Val Loss: 0.76233 | Train Acc: 100.000| Val Acc: 73.889\n",
      "Epoch 60: | Train Loss: 0.00166 | Val Loss: 0.76495 | Train Acc: 100.000| Val Acc: 75.556\n",
      "Epoch 70: | Train Loss: 0.00127 | Val Loss: 0.77329 | Train Acc: 100.000| Val Acc: 75.556\n",
      "Epoch 80: | Train Loss: 0.00116 | Val Loss: 0.77916 | Train Acc: 100.000| Val Acc: 76.667\n",
      "Epoch 90: | Train Loss: 0.00100 | Val Loss: 0.79210 | Train Acc: 100.000| Val Acc: 76.667\n",
      "Epoch 99: | Train Loss: 0.00105 | Val Loss: 0.79275 | Train Acc: 100.000| Val Acc: 76.667\n",
      "Training fold 2...\n",
      "Epoch 00: | Train Loss: 0.86807 | Val Loss: 1.07340 | Train Acc: 69.565| Val Acc: 44.444\n",
      "Epoch 10: | Train Loss: 0.02409 | Val Loss: 0.42161 | Train Acc: 100.000| Val Acc: 85.556\n",
      "Epoch 20: | Train Loss: 0.00722 | Val Loss: 0.44105 | Train Acc: 100.000| Val Acc: 83.889\n",
      "Epoch 30: | Train Loss: 0.00422 | Val Loss: 0.44365 | Train Acc: 100.000| Val Acc: 84.444\n",
      "Epoch 40: | Train Loss: 0.00302 | Val Loss: 0.45015 | Train Acc: 100.000| Val Acc: 84.444\n",
      "Epoch 50: | Train Loss: 0.00220 | Val Loss: 0.46181 | Train Acc: 100.000| Val Acc: 85.000\n",
      "Epoch 60: | Train Loss: 0.00166 | Val Loss: 0.46318 | Train Acc: 100.000| Val Acc: 84.444\n",
      "Epoch 70: | Train Loss: 0.00159 | Val Loss: 0.46337 | Train Acc: 100.000| Val Acc: 84.444\n",
      "Epoch 80: | Train Loss: 0.00131 | Val Loss: 0.46664 | Train Acc: 100.000| Val Acc: 85.000\n",
      "Epoch 90: | Train Loss: 0.00114 | Val Loss: 0.46846 | Train Acc: 100.000| Val Acc: 84.444\n",
      "Epoch 99: | Train Loss: 0.00094 | Val Loss: 0.47288 | Train Acc: 100.000| Val Acc: 85.000\n",
      "Training fold 3...\n",
      "Epoch 00: | Train Loss: 0.82858 | Val Loss: 0.99546 | Train Acc: 78.261| Val Acc: 44.444\n",
      "Epoch 10: | Train Loss: 0.01564 | Val Loss: 0.59943 | Train Acc: 100.000| Val Acc: 76.111\n",
      "Epoch 20: | Train Loss: 0.00515 | Val Loss: 0.63156 | Train Acc: 100.000| Val Acc: 72.222\n",
      "Epoch 30: | Train Loss: 0.00320 | Val Loss: 0.63652 | Train Acc: 100.000| Val Acc: 73.333\n",
      "Epoch 40: | Train Loss: 0.00235 | Val Loss: 0.66123 | Train Acc: 100.000| Val Acc: 73.889\n",
      "Epoch 50: | Train Loss: 0.00169 | Val Loss: 0.66348 | Train Acc: 100.000| Val Acc: 75.000\n",
      "Epoch 60: | Train Loss: 0.00142 | Val Loss: 0.67253 | Train Acc: 100.000| Val Acc: 73.889\n",
      "Epoch 70: | Train Loss: 0.00124 | Val Loss: 0.68106 | Train Acc: 100.000| Val Acc: 73.889\n",
      "Epoch 80: | Train Loss: 0.00107 | Val Loss: 0.68208 | Train Acc: 100.000| Val Acc: 73.333\n",
      "Epoch 90: | Train Loss: 0.00080 | Val Loss: 0.69904 | Train Acc: 100.000| Val Acc: 73.889\n",
      "Epoch 99: | Train Loss: 0.00077 | Val Loss: 0.69142 | Train Acc: 100.000| Val Acc: 72.778\n",
      "Training fold 4...\n",
      "Epoch 00: | Train Loss: 0.87665 | Val Loss: 1.14297 | Train Acc: 65.217| Val Acc: 44.444\n",
      "Epoch 10: | Train Loss: 0.02152 | Val Loss: 0.43667 | Train Acc: 100.000| Val Acc: 81.111\n",
      "Epoch 20: | Train Loss: 0.00648 | Val Loss: 0.44687 | Train Acc: 100.000| Val Acc: 82.778\n",
      "Epoch 30: | Train Loss: 0.00412 | Val Loss: 0.44356 | Train Acc: 100.000| Val Acc: 83.889\n",
      "Epoch 40: | Train Loss: 0.00284 | Val Loss: 0.44464 | Train Acc: 100.000| Val Acc: 83.889\n",
      "Epoch 50: | Train Loss: 0.00254 | Val Loss: 0.45722 | Train Acc: 100.000| Val Acc: 82.222\n",
      "Epoch 60: | Train Loss: 0.00177 | Val Loss: 0.45676 | Train Acc: 100.000| Val Acc: 83.333\n",
      "Epoch 70: | Train Loss: 0.00140 | Val Loss: 0.45598 | Train Acc: 100.000| Val Acc: 82.778\n",
      "Epoch 80: | Train Loss: 0.00125 | Val Loss: 0.45379 | Train Acc: 100.000| Val Acc: 82.778\n",
      "Epoch 90: | Train Loss: 0.00097 | Val Loss: 0.46149 | Train Acc: 100.000| Val Acc: 83.333\n",
      "Epoch 99: | Train Loss: 0.00087 | Val Loss: 0.46028 | Train Acc: 100.000| Val Acc: 83.333\n",
      "Training fold 5...\n",
      "Epoch 00: | Train Loss: 0.83145 | Val Loss: 1.11056 | Train Acc: 73.913| Val Acc: 28.333\n",
      "Epoch 10: | Train Loss: 0.01931 | Val Loss: 0.46248 | Train Acc: 100.000| Val Acc: 82.222\n",
      "Epoch 20: | Train Loss: 0.00647 | Val Loss: 0.48907 | Train Acc: 100.000| Val Acc: 81.111\n",
      "Epoch 30: | Train Loss: 0.00406 | Val Loss: 0.50271 | Train Acc: 100.000| Val Acc: 81.111\n",
      "Epoch 40: | Train Loss: 0.00292 | Val Loss: 0.51186 | Train Acc: 100.000| Val Acc: 81.667\n",
      "Epoch 50: | Train Loss: 0.00209 | Val Loss: 0.52218 | Train Acc: 100.000| Val Acc: 81.667\n",
      "Epoch 60: | Train Loss: 0.00148 | Val Loss: 0.53073 | Train Acc: 100.000| Val Acc: 81.667\n",
      "Epoch 70: | Train Loss: 0.00138 | Val Loss: 0.53415 | Train Acc: 100.000| Val Acc: 82.222\n",
      "Epoch 80: | Train Loss: 0.00118 | Val Loss: 0.54293 | Train Acc: 100.000| Val Acc: 81.667\n",
      "Epoch 90: | Train Loss: 0.00104 | Val Loss: 0.54788 | Train Acc: 100.000| Val Acc: 82.222\n",
      "Epoch 99: | Train Loss: 0.00094 | Val Loss: 0.55015 | Train Acc: 100.000| Val Acc: 81.667\n"
     ],
     "output_type": "stream"
    }
   ],
   "source": [
    "folds_acc = [0.0 for i in range(n_folds)]\n",
    "\n",
    "for i_fold in range(n_folds):\n",
    "    train_dataset = np.concatenate([folds[i] for i in range(n_folds) if i != i_fold])\n",
    "    val_dataset = folds[i_fold]\n",
    "    train_labels = np.concatenate([folds_labels[i] for i in range(n_folds) if i != i_fold])\n",
    "    val_labels = folds_labels[i_fold]\n",
    "\n",
    "    train_dataset_tensor = torch.Tensor(train_dataset)\n",
    "    train_labels_tensor = torch.Tensor(train_labels).long()\n",
    "\n",
    "    test_dataset_tensor = torch.Tensor(val_dataset)\n",
    "    val_labels_tensor = torch.Tensor(val_labels).long()\n",
    "\n",
    "    train_dataset_torch = torch.utils.data.TensorDataset(train_dataset_tensor, train_labels_tensor)\n",
    "    val_dataset_torch = torch.utils.data.TensorDataset(test_dataset_tensor, val_labels_tensor)\n",
    "\n",
    "    train_data_loader = torch.utils.data.DataLoader(train_dataset_torch, batch_size=BATCH_SIZE, shuffle=True)\n",
    "    val_data_loader = torch.utils.data.DataLoader(val_dataset_torch, batch_size=1, shuffle=False)\n",
    "\n",
    "    print('Training fold ' + str(i_fold + 1) + '...')\n",
    "    for epoch in range(EPOCHS):\n",
    "        train_epoch_loss = 0\n",
    "        train_epoch_acc = 0\n",
    "        model.train()\n",
    "        for X_train_batch, y_train_batch in train_data_loader:\n",
    "            if torch.cuda.is_available():\n",
    "                X_train_batch, y_train_batch = X_train_batch.cuda(), y_train_batch.cuda()\n",
    "            optimizer.zero_grad()\n",
    "            y_train_pred = model(X_train_batch).squeeze()\n",
    "            train_loss = criterion(y_train_pred, y_train_batch)\n",
    "            train_acc = multi_acc(y_train_pred, y_train_batch)\n",
    "            train_loss.backward()\n",
    "            optimizer.step()\n",
    "            train_epoch_loss += train_loss.item()\n",
    "            train_epoch_acc += train_acc.item()\n",
    "        # VALIDATION\",\n",
    "        with torch.no_grad():\n",
    "            model.eval()\n",
    "            val_epoch_loss = 0\n",
    "            val_epoch_acc = 0\n",
    "            for X_val_batch, y_val_batch in val_data_loader:\n",
    "                if torch.cuda.is_available():\n",
    "                    X_val_batch, y_val_batch = X_val_batch.cuda(), y_val_batch.cuda()\n",
    "                y_val_pred = model(X_val_batch).squeeze()\n",
    "                y_val_pred = torch.unsqueeze(y_val_pred, 0)\n",
    "                val_loss = criterion(y_val_pred, y_val_batch)\n",
    "                val_acc = multi_acc(y_val_pred, y_val_batch)\n",
    "                val_epoch_loss += val_loss.item()\n",
    "                val_epoch_acc += val_acc.item()\n",
    "        if i_fold == 1:\n",
    "            loss_stats['train'].append(train_epoch_loss/len(train_data_loader))\n",
    "            loss_stats['val'].append(val_epoch_loss/len(val_data_loader))\n",
    "            accuracy_stats['train'].append(train_epoch_acc/len(train_data_loader))\n",
    "            accuracy_stats['val'].append(val_epoch_acc/len(val_data_loader))\n",
    "        # TODO usar apenas os ultimos valores da validação cruzada ou fazer uma média por dobra\n",
    "        if (epoch % 10 == 0) or (epoch == EPOCHS-1):\n",
    "            print(f'Epoch {epoch+0:02}: | Train Loss: {train_epoch_loss/len(train_data_loader):.5f} | Val Loss: {val_epoch_loss/len(val_data_loader):.5f} | Train Acc: {train_epoch_acc/len(train_data_loader):.3f}| Val Acc: {val_epoch_acc/len(val_data_loader):.3f}')\n",
    "    \n",
    "    model = CovidCNN()\n",
    "    criterion = nn.CrossEntropyLoss()\n",
    "    optimizer = optim.SGD(model.parameters(), lr=LEARNING_RATE)\n",
    "    if torch.cuda.is_available():\n",
    "        model = model.cuda()\n",
    "        criterion = criterion.cuda()\n",
    "   "
   ],
   "metadata": {
    "collapsed": false,
    "pycharm": {
     "name": "#%%\n",
     "is_executing": false
    }
   }
  },
  {
   "cell_type": "code",
   "execution_count": 12,
   "outputs": [
    {
     "data": {
      "text/plain": "Text(0.5, 1.0, 'Train-Val Loss/Epoch')"
     },
     "metadata": {},
     "output_type": "execute_result",
     "execution_count": 12
    },
    {
     "data": {
      "text/plain": "<Figure size 2160x720 with 2 Axes>",
      "image/png": "[encoded data removed]"
     },
     "metadata": {},
     "output_type": "display_data"
    }
   ],
   "source": [
    "train_val_acc_df = pd.DataFrame.from_dict(accuracy_stats).reset_index().melt(id_vars=['index']).rename(columns={\"index\":\"epochs\"})\n",
    "train_val_loss_df = pd.DataFrame.from_dict(loss_stats).reset_index().melt(id_vars=['index']).rename(columns={\"index\":\"epochs\"})\n",
    "\n",
    "# Plot line charts\n",
    "fig, axes = plt.subplots(nrows=1, ncols=2, figsize=(30,10))\n",
    "sns.lineplot(data=train_val_acc_df, x = \"epochs\", y=\"value\", hue=\"variable\",  ax=axes[0]).set_title('Train-Val Accuracy/Epoch')\n",
    "sns.lineplot(data=train_val_loss_df, x = \"epochs\", y=\"value\", hue=\"variable\", ax=axes[1]).set_title('Train-Val Loss/Epoch')"
   ],
   "metadata": {
    "collapsed": false,
    "pycharm": {
     "name": "#%%\n",
     "is_executing": false
    }
   }
  },
  {
   "cell_type": "code",
   "execution_count": 13,
   "outputs": [
    {
     "name": "stdout",
     "text": [
      "Dataset ImageFolder\n",
      "    Number of datapoints: 225\n",
      "    Root location: dataset_divided/test\n",
      "    StandardTransform\n",
      "Transform: Compose(\n",
      "               <__main__.ToRGB object at 0x000001C2CD989AF0>\n",
      "               Resize(size=(256, 256), interpolation=PIL.Image.BILINEAR)\n",
      "               ToTensor()\n",
      "               <__main__.ToNorm object at 0x000001C2CD989B80>\n",
      "           )\n"
     ],
     "output_type": "stream"
    }
   ],
   "source": [
    "test_data = torchvision.datasets.ImageFolder(root=TEST_DATA_PATH, transform=TRANSFORM_IMG)\n",
    "print(test_data)\n",
    "test_loader = DataLoader(dataset=test_data, shuffle=False, batch_size=1)"
   ],
   "metadata": {
    "collapsed": false,
    "pycharm": {
     "name": "#%%\n",
     "is_executing": false
    }
   }
  },
  {
   "cell_type": "code",
   "execution_count": 20,
   "outputs": [
    {
     "name": "stdout",
     "text": [
      "Epoch 00: | Train Loss: 0.81195 | Val Loss: 0.55015 | Train Acc: 100.000| Val Acc: 81.667\n",
      "Epoch 01: | Train Loss: 0.60400 | Val Loss: 0.55015 | Train Acc: 121.739| Val Acc: 81.667\n",
      "Epoch 02: | Train Loss: 0.49596 | Val Loss: 0.55015 | Train Acc: 126.087| Val Acc: 81.667\n",
      "Epoch 03: | Train Loss: 0.37083 | Val Loss: 0.55015 | Train Acc: 126.087| Val Acc: 81.667\n",
      "Epoch 04: | Train Loss: 0.29821 | Val Loss: 0.55015 | Train Acc: 126.087| Val Acc: 81.667\n",
      "Epoch 05: | Train Loss: 0.32756 | Val Loss: 0.55015 | Train Acc: 126.087| Val Acc: 81.667\n",
      "Epoch 06: | Train Loss: 0.19909 | Val Loss: 0.55015 | Train Acc: 126.087| Val Acc: 81.667\n",
      "Epoch 07: | Train Loss: 0.12495 | Val Loss: 0.55015 | Train Acc: 126.087| Val Acc: 81.667\n",
      "Epoch 08: | Train Loss: 0.08513 | Val Loss: 0.55015 | Train Acc: 126.087| Val Acc: 81.667\n",
      "Epoch 09: | Train Loss: 0.04758 | Val Loss: 0.55015 | Train Acc: 126.087| Val Acc: 81.667\n",
      "Epoch 10: | Train Loss: 0.03981 | Val Loss: 0.55015 | Train Acc: 126.087| Val Acc: 81.667\n",
      "Epoch 11: | Train Loss: 0.02216 | Val Loss: 0.55015 | Train Acc: 126.087| Val Acc: 81.667\n",
      "Epoch 12: | Train Loss: 0.01629 | Val Loss: 0.55015 | Train Acc: 126.087| Val Acc: 81.667\n",
      "Epoch 13: | Train Loss: 0.01381 | Val Loss: 0.55015 | Train Acc: 126.087| Val Acc: 81.667\n",
      "Epoch 14: | Train Loss: 0.01090 | Val Loss: 0.55015 | Train Acc: 126.087| Val Acc: 81.667\n",
      "Epoch 15: | Train Loss: 0.00919 | Val Loss: 0.55015 | Train Acc: 126.087| Val Acc: 81.667\n",
      "Epoch 16: | Train Loss: 0.00794 | Val Loss: 0.55015 | Train Acc: 126.087| Val Acc: 81.667\n",
      "Epoch 17: | Train Loss: 0.00876 | Val Loss: 0.55015 | Train Acc: 126.087| Val Acc: 81.667\n",
      "Epoch 18: | Train Loss: 0.01312 | Val Loss: 0.55015 | Train Acc: 126.087| Val Acc: 81.667\n",
      "Epoch 19: | Train Loss: 0.00765 | Val Loss: 0.55015 | Train Acc: 126.087| Val Acc: 81.667\n",
      "Epoch 20: | Train Loss: 0.00760 | Val Loss: 0.55015 | Train Acc: 126.087| Val Acc: 81.667\n",
      "Epoch 21: | Train Loss: 0.00972 | Val Loss: 0.55015 | Train Acc: 126.087| Val Acc: 81.667\n",
      "Epoch 22: | Train Loss: 0.01091 | Val Loss: 0.55015 | Train Acc: 126.087| Val Acc: 81.667\n",
      "Epoch 23: | Train Loss: 0.00659 | Val Loss: 0.55015 | Train Acc: 126.087| Val Acc: 81.667\n",
      "Epoch 24: | Train Loss: 0.00522 | Val Loss: 0.55015 | Train Acc: 126.087| Val Acc: 81.667\n",
      "Epoch 25: | Train Loss: 0.00450 | Val Loss: 0.55015 | Train Acc: 126.087| Val Acc: 81.667\n",
      "Epoch 26: | Train Loss: 0.01014 | Val Loss: 0.55015 | Train Acc: 126.087| Val Acc: 81.667\n",
      "Epoch 27: | Train Loss: 0.17019 | Val Loss: 0.55015 | Train Acc: 126.087| Val Acc: 81.667\n",
      "Epoch 28: | Train Loss: 0.01630 | Val Loss: 0.55015 | Train Acc: 126.087| Val Acc: 81.667\n",
      "Epoch 29: | Train Loss: 0.02601 | Val Loss: 0.55015 | Train Acc: 126.087| Val Acc: 81.667\n",
      "Epoch 30: | Train Loss: 0.00708 | Val Loss: 0.55015 | Train Acc: 126.087| Val Acc: 81.667\n",
      "Epoch 31: | Train Loss: 0.00576 | Val Loss: 0.55015 | Train Acc: 126.087| Val Acc: 81.667\n",
      "Epoch 32: | Train Loss: 0.00567 | Val Loss: 0.55015 | Train Acc: 126.087| Val Acc: 81.667\n",
      "Epoch 33: | Train Loss: 0.00427 | Val Loss: 0.55015 | Train Acc: 126.087| Val Acc: 81.667\n",
      "Epoch 34: | Train Loss: 0.00489 | Val Loss: 0.55015 | Train Acc: 126.087| Val Acc: 81.667\n",
      "Epoch 35: | Train Loss: 0.00596 | Val Loss: 0.55015 | Train Acc: 126.087| Val Acc: 81.667\n",
      "Epoch 36: | Train Loss: 0.00387 | Val Loss: 0.55015 | Train Acc: 126.087| Val Acc: 81.667\n",
      "Epoch 37: | Train Loss: 0.00302 | Val Loss: 0.55015 | Train Acc: 126.087| Val Acc: 81.667\n",
      "Epoch 38: | Train Loss: 0.00273 | Val Loss: 0.55015 | Train Acc: 126.087| Val Acc: 81.667\n",
      "Epoch 39: | Train Loss: 0.00250 | Val Loss: 0.55015 | Train Acc: 126.087| Val Acc: 81.667\n",
      "Epoch 40: | Train Loss: 0.00254 | Val Loss: 0.55015 | Train Acc: 126.087| Val Acc: 81.667\n",
      "Epoch 41: | Train Loss: 0.00294 | Val Loss: 0.55015 | Train Acc: 126.087| Val Acc: 81.667\n",
      "Epoch 42: | Train Loss: 0.00271 | Val Loss: 0.55015 | Train Acc: 126.087| Val Acc: 81.667\n",
      "Epoch 43: | Train Loss: 0.00224 | Val Loss: 0.55015 | Train Acc: 126.087| Val Acc: 81.667\n",
      "Epoch 44: | Train Loss: 0.00247 | Val Loss: 0.55015 | Train Acc: 126.087| Val Acc: 81.667\n",
      "Epoch 45: | Train Loss: 0.00220 | Val Loss: 0.55015 | Train Acc: 126.087| Val Acc: 81.667\n",
      "Epoch 46: | Train Loss: 0.00235 | Val Loss: 0.55015 | Train Acc: 126.087| Val Acc: 81.667\n",
      "Epoch 47: | Train Loss: 0.00193 | Val Loss: 0.55015 | Train Acc: 126.087| Val Acc: 81.667\n",
      "Epoch 48: | Train Loss: 0.00212 | Val Loss: 0.55015 | Train Acc: 126.087| Val Acc: 81.667\n",
      "Epoch 49: | Train Loss: 0.00161 | Val Loss: 0.55015 | Train Acc: 126.087| Val Acc: 81.667\n",
      "Epoch 50: | Train Loss: 0.00166 | Val Loss: 0.55015 | Train Acc: 126.087| Val Acc: 81.667\n",
      "Epoch 51: | Train Loss: 0.00161 | Val Loss: 0.55015 | Train Acc: 126.087| Val Acc: 81.667\n",
      "Epoch 52: | Train Loss: 0.00165 | Val Loss: 0.55015 | Train Acc: 126.087| Val Acc: 81.667\n",
      "Epoch 53: | Train Loss: 0.00176 | Val Loss: 0.55015 | Train Acc: 126.087| Val Acc: 81.667\n",
      "Epoch 54: | Train Loss: 0.00174 | Val Loss: 0.55015 | Train Acc: 126.087| Val Acc: 81.667\n",
      "Epoch 55: | Train Loss: 0.00161 | Val Loss: 0.55015 | Train Acc: 126.087| Val Acc: 81.667\n",
      "Epoch 56: | Train Loss: 0.00134 | Val Loss: 0.55015 | Train Acc: 126.087| Val Acc: 81.667\n",
      "Epoch 57: | Train Loss: 0.00160 | Val Loss: 0.55015 | Train Acc: 126.087| Val Acc: 81.667\n",
      "Epoch 58: | Train Loss: 0.00509 | Val Loss: 0.55015 | Train Acc: 126.087| Val Acc: 81.667\n",
      "Epoch 59: | Train Loss: 0.00535 | Val Loss: 0.55015 | Train Acc: 126.087| Val Acc: 81.667\n",
      "Epoch 60: | Train Loss: 0.00267 | Val Loss: 0.55015 | Train Acc: 126.087| Val Acc: 81.667\n",
      "Epoch 61: | Train Loss: 0.00205 | Val Loss: 0.55015 | Train Acc: 126.087| Val Acc: 81.667\n",
      "Epoch 62: | Train Loss: 0.00164 | Val Loss: 0.55015 | Train Acc: 126.087| Val Acc: 81.667\n",
      "Epoch 63: | Train Loss: 0.00155 | Val Loss: 0.55015 | Train Acc: 126.087| Val Acc: 81.667\n",
      "Epoch 64: | Train Loss: 0.00216 | Val Loss: 0.55015 | Train Acc: 126.087| Val Acc: 81.667\n",
      "Epoch 65: | Train Loss: 0.00275 | Val Loss: 0.55015 | Train Acc: 126.087| Val Acc: 81.667\n",
      "Epoch 66: | Train Loss: 0.00156 | Val Loss: 0.55015 | Train Acc: 126.087| Val Acc: 81.667\n",
      "Epoch 67: | Train Loss: 0.00134 | Val Loss: 0.55015 | Train Acc: 126.087| Val Acc: 81.667\n",
      "Epoch 68: | Train Loss: 0.00129 | Val Loss: 0.55015 | Train Acc: 126.087| Val Acc: 81.667\n",
      "Epoch 69: | Train Loss: 0.00120 | Val Loss: 0.55015 | Train Acc: 126.087| Val Acc: 81.667\n",
      "Epoch 70: | Train Loss: 0.00118 | Val Loss: 0.55015 | Train Acc: 126.087| Val Acc: 81.667\n",
      "Epoch 71: | Train Loss: 0.00120 | Val Loss: 0.55015 | Train Acc: 126.087| Val Acc: 81.667\n",
      "Epoch 72: | Train Loss: 0.00106 | Val Loss: 0.55015 | Train Acc: 126.087| Val Acc: 81.667\n",
      "Epoch 73: | Train Loss: 0.00097 | Val Loss: 0.55015 | Train Acc: 126.087| Val Acc: 81.667\n",
      "Epoch 74: | Train Loss: 0.00094 | Val Loss: 0.55015 | Train Acc: 126.087| Val Acc: 81.667\n",
      "Epoch 75: | Train Loss: 0.00094 | Val Loss: 0.55015 | Train Acc: 126.087| Val Acc: 81.667\n",
      "Epoch 76: | Train Loss: 0.00089 | Val Loss: 0.55015 | Train Acc: 126.087| Val Acc: 81.667\n",
      "Epoch 77: | Train Loss: 0.00083 | Val Loss: 0.55015 | Train Acc: 126.087| Val Acc: 81.667\n",
      "Epoch 78: | Train Loss: 0.00086 | Val Loss: 0.55015 | Train Acc: 126.087| Val Acc: 81.667\n",
      "Epoch 79: | Train Loss: 0.00088 | Val Loss: 0.55015 | Train Acc: 126.087| Val Acc: 81.667\n",
      "Epoch 80: | Train Loss: 0.00089 | Val Loss: 0.55015 | Train Acc: 126.087| Val Acc: 81.667\n",
      "Epoch 81: | Train Loss: 0.00092 | Val Loss: 0.55015 | Train Acc: 126.087| Val Acc: 81.667\n",
      "Epoch 82: | Train Loss: 0.00087 | Val Loss: 0.55015 | Train Acc: 126.087| Val Acc: 81.667\n",
      "Epoch 83: | Train Loss: 0.00156 | Val Loss: 0.55015 | Train Acc: 126.087| Val Acc: 81.667\n",
      "Epoch 84: | Train Loss: 0.00198 | Val Loss: 0.55015 | Train Acc: 126.087| Val Acc: 81.667\n",
      "Epoch 85: | Train Loss: 0.00446 | Val Loss: 0.55015 | Train Acc: 126.087| Val Acc: 81.667\n",
      "Epoch 86: | Train Loss: 0.12361 | Val Loss: 0.55015 | Train Acc: 126.087| Val Acc: 81.667\n",
      "Epoch 87: | Train Loss: 0.00594 | Val Loss: 0.55015 | Train Acc: 126.087| Val Acc: 81.667\n",
      "Epoch 88: | Train Loss: 0.00322 | Val Loss: 0.55015 | Train Acc: 126.087| Val Acc: 81.667\n",
      "Epoch 89: | Train Loss: 0.00257 | Val Loss: 0.55015 | Train Acc: 126.087| Val Acc: 81.667\n",
      "Epoch 90: | Train Loss: 0.00757 | Val Loss: 0.55015 | Train Acc: 126.087| Val Acc: 81.667\n",
      "Epoch 91: | Train Loss: 0.04454 | Val Loss: 0.55015 | Train Acc: 126.087| Val Acc: 81.667\n",
      "Epoch 92: | Train Loss: 0.00467 | Val Loss: 0.55015 | Train Acc: 126.087| Val Acc: 81.667\n",
      "Epoch 93: | Train Loss: 0.00319 | Val Loss: 0.55015 | Train Acc: 126.087| Val Acc: 81.667\n",
      "Epoch 94: | Train Loss: 0.00265 | Val Loss: 0.55015 | Train Acc: 126.087| Val Acc: 81.667\n",
      "Epoch 95: | Train Loss: 0.00240 | Val Loss: 0.55015 | Train Acc: 126.087| Val Acc: 81.667\n",
      "Epoch 96: | Train Loss: 0.00194 | Val Loss: 0.55015 | Train Acc: 126.087| Val Acc: 81.667\n",
      "Epoch 97: | Train Loss: 0.00165 | Val Loss: 0.55015 | Train Acc: 126.087| Val Acc: 81.667\n",
      "Epoch 98: | Train Loss: 0.00194 | Val Loss: 0.55015 | Train Acc: 126.087| Val Acc: 81.667\n",
      "Epoch 99: | Train Loss: 0.00160 | Val Loss: 0.55015 | Train Acc: 126.087| Val Acc: 81.667\n",
      "\n",
      "0.7244444444444444\n",
      "              precision    recall  f1-score   support\n",
      "\n",
      "           0       1.00      0.64      0.78        25\n",
      "           1       0.71      0.76      0.73       100\n",
      "           2       0.70      0.71      0.70       100\n",
      "\n",
      "    accuracy                           0.72       225\n",
      "   macro avg       0.80      0.70      0.74       225\n",
      "weighted avg       0.74      0.72      0.73       225\n",
      "\n"
     ],
     "output_type": "stream"
    },
    {
     "data": {
      "text/plain": "HBox(children=(FloatProgress(value=0.0, max=225.0), HTML(value='')))",
      "application/vnd.jupyter.widget-view+json": {
       "version_major": 2,
       "version_minor": 0,
       "model_id": "d1839640cf684cac9de344cc1ac594f1"
      }
     },
     "metadata": {},
     "output_type": "display_data"
    }
   ],
   "source": [
    "model = CovidCNN()\n",
    "criterion = nn.CrossEntropyLoss()\n",
    "optimizer = optim.SGD(model.parameters(), lr=LEARNING_RATE)\n",
    "if torch.cuda.is_available():\n",
    "    model = model.cuda()\n",
    "    criterion = criterion.cuda()\n",
    "\n",
    "train_data  = datasets.ImageFolder(TRAIN_DATA_PATH, transform=TRANSFORM_IMG)\n",
    "train_loader = torch.utils.data.DataLoader(train_data, batch_size=BATCH_SIZE, shuffle=True)\n",
    "\n",
    "for epoch in range(EPOCHS):\n",
    "    train_epoch_loss = 0\n",
    "    train_epoch_acc = 0\n",
    "    model.train()\n",
    "    for X_train_batch, y_train_batch in train_loader:\n",
    "        if torch.cuda.is_available():\n",
    "            X_train_batch, y_train_batch = X_train_batch.cuda(), y_train_batch.cuda()\n",
    "        optimizer.zero_grad()\n",
    "        y_train_pred = model(X_train_batch).squeeze()\n",
    "        train_loss = criterion(y_train_pred, y_train_batch)\n",
    "        train_acc = multi_acc(y_train_pred, y_train_batch)\n",
    "        train_loss.backward()\n",
    "        optimizer.step()\n",
    "        train_epoch_loss += train_loss.item()\n",
    "        train_epoch_acc += train_acc.item()\n",
    "    print(f'Epoch {epoch+0:02}: | Train Loss: {train_epoch_loss/len(train_loader):.5f} | Train Acc: {train_epoch_acc/len(train_loader):.3f}')\n",
    "\n",
    "y_pred_list = []\n",
    "y_true_list = []\n",
    "with torch.no_grad():\n",
    "    for x_batch, y_batch in tqdm(test_loader):\n",
    "        x_batch, y_batch = x_batch.cuda(), y_batch.cuda()\n",
    "        y_test_pred = model(x_batch)\n",
    "        y_test_pred = torch.log_softmax(y_test_pred, dim=1)\n",
    "        _, y_pred_tag = torch.max(y_test_pred, dim = 1)\n",
    "        y_pred_list.append(y_pred_tag.cpu().numpy())\n",
    "        y_true_list.append(y_batch.cpu().numpy())\n",
    "\n",
    "np.set_printoptions(precision=4)\n",
    "print(accuracy_score(y_true_list, y_pred_list))\n",
    "print(classification_report(y_true_list, y_pred_list))"
   ],
   "metadata": {
    "collapsed": false,
    "pycharm": {
     "name": "#%%\n",
     "is_executing": false
    }
   }
  },
  {
   "cell_type": "code",
   "execution_count": 21,
   "outputs": [
    {
     "name": "stdout",
     "text": [
      "[[16  2  7]\n",
      " [ 0 76 24]\n",
      " [ 0 29 71]]\n"
     ],
     "output_type": "stream"
    }
   ],
   "source": [
    "print(confusion_matrix(y_true_list, y_pred_list))"
   ],
   "metadata": {
    "collapsed": false,
    "pycharm": {
     "name": "#%%\n",
     "is_executing": false
    }
   }
  },
  {
   "cell_type": "code",
   "execution_count": 22,
   "outputs": [
    {
     "data": {
      "text/plain": "<matplotlib.axes._subplots.AxesSubplot at 0x1c426136eb0>"
     },
     "metadata": {},
     "output_type": "execute_result",
     "execution_count": 22
    },
    {
     "data": {
      "text/plain": "<Figure size 504x360 with 2 Axes>",
      "image/png": "[encoded data removed]"
     },
     "metadata": {},
     "output_type": "display_data"
    }
   ],
   "source": [
    "confusion_matrix_df = pd.DataFrame(confusion_matrix(y_true_list, y_pred_list)).rename(columns=idx2class, index=idx2class)\n",
    "fig, ax = plt.subplots(figsize=(7,5))         \n",
    "sns.heatmap(confusion_matrix_df, annot=True, ax=ax)\n"
   ],
   "metadata": {
    "collapsed": false,
    "pycharm": {
     "name": "#%%\n",
     "is_executing": false
    }
   }
  }
 ],
 "metadata": {
  "gist": {
   "data": {
    "description": "Implementing Darknet19 from scratch using fast.ai - MNIST",
    "public": true
   },
   "id": ""
  },
  "kernelspec": {
   "display_name": "Python 3",
   "language": "python",
   "name": "python3"
  },
  "language_info": {
   "codemirror_mode": {
    "name": "ipython",
    "version": 3
   },
   "file_extension": ".py",
   "mimetype": "text/x-python",
   "name": "python",
   "nbconvert_exporter": "python",
   "pygments_lexer": "ipython3",
   "version": "3.8.3"
  },
  "pycharm": {
   "stem_cell": {
    "cell_type": "raw",
    "source": [],
    "metadata": {
     "collapsed": false
    }
   }
  }
 },
 "nbformat": 4,
 "nbformat_minor": 2
}